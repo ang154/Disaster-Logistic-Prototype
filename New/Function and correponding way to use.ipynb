{
 "cells": [
  {
   "cell_type": "markdown",
   "metadata": {},
   "source": [
    "# Begin\n",
    "\n",
    "Here are all the prerequisite files that need to be imported"
   ]
  },
  {
   "cell_type": "code",
   "execution_count": null,
   "metadata": {},
   "outputs": [],
   "source": [
    "import Email_Sender\n",
    "import Platform_API\n",
    "import Platform_Alert\n",
    "import SQL_Caller\n",
    "import Platform_Objects\n",
    "from datetime import datetime"
   ]
  },
  {
   "cell_type": "markdown",
   "metadata": {},
   "source": [
    "Import main so this page is correct, do not import main or use main.xx if code is in main:"
   ]
  },
  {
   "cell_type": "code",
   "execution_count": null,
   "metadata": {},
   "outputs": [],
   "source": [
    "import main"
   ]
  },
  {
   "cell_type": "markdown",
   "metadata": {},
   "source": [
    "To connect to the database (of course, locally setup it first), run the command in main:"
   ]
  },
  {
   "cell_type": "code",
   "execution_count": null,
   "metadata": {},
   "outputs": [],
   "source": [
    "host = \"localhost\"\n",
    "user = \"pi\"\n",
    "password = \"2333\"\n",
    "database = \"prototype\"\n",
    "global mydb, cursor\n",
    "mydb, cursor = SQL_Caller.establish(user, password, host, database)"
   ]
  },
  {
   "cell_type": "markdown",
   "metadata": {},
   "source": [
    "# DISASTER\n",
    "\n",
    "1.Search Disaster by id, display detailed data of the event.\n",
    "Function input: id\n",
    "Return: detailed data in any form (Prefer list)"
   ]
  },
  {
   "cell_type": "code",
   "execution_count": null,
   "metadata": {},
   "outputs": [],
   "source": [
    "test_disaster = Platform_Objects.Disaster(d_id='01aeec6d-4577-437c-a02c-649330d88bf3')\n",
    "test_disaster.load_from_database(mydb, cursor)"
   ]
  },
  {
   "cell_type": "markdown",
   "metadata": {},
   "source": [
    "* After this, all the necessary data are in the test_disaster that can be accessed with things like \"test_disaster.area\" and such, more detailed attributes are in the \"Objects\" file."
   ]
  },
  {
   "cell_type": "markdown",
   "metadata": {},
   "source": [
    "2.Search by State, display list of most recent 50 disasters' alert of that state\n",
    "Function input: state\n",
    "Return: list of most recent 50 disasters' alert of that state"
   ]
  },
  {
   "cell_type": "code",
   "execution_count": null,
   "metadata": {},
   "outputs": [],
   "source": [
    "result = SQL_Caller.disaster_top_50(\"CA\")"
   ]
  },
  {
   "cell_type": "markdown",
   "metadata": {},
   "source": [
    "3.Search by State and County, display list of most recent 50 disasters' alert of that county\n",
    "Function input: state\n",
    "Return: list of most recent 50 disasters' alert of that county in that state"
   ]
  },
  {
   "cell_type": "markdown",
   "metadata": {},
   "source": [
    "* Did not code due to the data indicates no necessity to use more detail."
   ]
  },
  {
   "cell_type": "markdown",
   "metadata": {},
   "source": [
    "# ALERT\n",
    "\n",
    "1.Display recent 50 disasters' alert in list function: no input(but since we are only doing PA this function will be same as 2. in disaster)"
   ]
  },
  {
   "cell_type": "code",
   "execution_count": null,
   "metadata": {},
   "outputs": [],
   "source": [
    "result = SQL_Caller.disaster_top_50()"
   ]
  },
  {
   "cell_type": "markdown",
   "metadata": {},
   "source": [
    "# ORDER (1 2 3 4 8 will be main goal)\n",
    "\n",
    "Search order by id, display detailed info of that order\n",
    "Function input:id\n",
    "Return: detailed data of the order in any form (best list)\n",
    "* Similar to the disaster but the function \"sync_with_database\" also supports overwrite id\""
   ]
  },
  {
   "cell_type": "code",
   "execution_count": null,
   "metadata": {},
   "outputs": [],
   "source": [
    "test_order = Platform_Objects.Order()\n",
    "test_order.sync_with_database(mydb, cursor, \"ORDER_ID_EXAMPLE\")"
   ]
  },
  {
   "cell_type": "markdown",
   "metadata": {},
   "source": [
    "Search order by State, display list of all orders in that state(breif info: id, vendor, status)\n",
    "Function input: state\n",
    "Return: list of all orders(up to 50) of that state\n",
    "* Of course, default is PA."
   ]
  },
  {
   "cell_type": "code",
   "execution_count": null,
   "metadata": {},
   "outputs": [],
   "source": [
    "order_result1 = SQL_Caller.order_top_50(\"CA\")"
   ]
  },
  {
   "cell_type": "markdown",
   "metadata": {},
   "source": [
    "Search order by vendor, display list of all orders of that vendor(breif info: id, vendor, status)\n",
    "Function input: (Vendor id)\n",
    "Return: list of all orders(up to 50) of that vendor"
   ]
  },
  {
   "cell_type": "code",
   "execution_count": null,
   "metadata": {},
   "outputs": [],
   "source": [
    "order_result2 = SQL_Caller.order_by_vendor(mydb, cursor, \"Vendor_ID_EXAMPLE\")"
   ]
  },
  {
   "cell_type": "markdown",
   "metadata": {},
   "source": [
    "Search order by status, display list of all orders of that status(completed, uncompleted, canceled etc..)\n",
    "Function input: order status,\n",
    "Return: list of all orders(up to 50) of that status\n",
    "* Have not defined the status yet, did not limit the amount"
   ]
  },
  {
   "cell_type": "code",
   "execution_count": null,
   "metadata": {},
   "outputs": [],
   "source": [
    "order_result3 = SQL_Caller.search_obj(mydb, cursor, 'Order', 'status = [completed/uncompleted/canceled]')"
   ]
  },
  {
   "cell_type": "markdown",
   "metadata": {},
   "source": [
    "Search order by State and Vendor return list of all orders(up to 50) of that state and vendor"
   ]
  },
  {
   "cell_type": "code",
   "execution_count": null,
   "metadata": {},
   "outputs": [],
   "source": [
    "order_result4 = SQL_Caller.order_state_vendor(mydb, cursor, \"Vendor_ID_EXAMPLE\", \"NY\")"
   ]
  },
  {
   "cell_type": "markdown",
   "metadata": {},
   "source": [
    "Search order by State and status return list of all orders(up to 50) of that state and status"
   ]
  },
  {
   "cell_type": "code",
   "execution_count": null,
   "metadata": {},
   "outputs": [],
   "source": [
    "order_result5 = SQL_Caller.order_status_state(mydb, cursor, 'status = [completed/uncompleted/canceled]', \"MI\")"
   ]
  },
  {
   "cell_type": "markdown",
   "metadata": {},
   "source": [
    "Search order by Vendor and status return list of all orders(up to 50) of that vendor and status"
   ]
  },
  {
   "cell_type": "code",
   "execution_count": null,
   "metadata": {},
   "outputs": [],
   "source": [
    "order_result6 = SQL_Caller.order_status_vendor(mydb, cursor, \"Vendor_ID_EXAMPLE\", 'status = [completed/uncompleted/canceled]')"
   ]
  },
  {
   "cell_type": "markdown",
   "metadata": {},
   "source": [
    "Search order by State and Vendor and status return list of all orders(up to 50) of that state and vendor and status"
   ]
  },
  {
   "cell_type": "code",
   "execution_count": null,
   "metadata": {},
   "outputs": [],
   "source": [
    "order_result7 = SQL_Caller.order_state_vendor_status(mydb, cursor, \"Vendor_ID_EXAMPLE\", 'status = [completed/uncompleted/canceled]', \"OR\")"
   ]
  },
  {
   "cell_type": "markdown",
   "metadata": {},
   "source": [
    "Create Order and get the order id to manage shipments later:"
   ]
  },
  {
   "cell_type": "code",
   "execution_count": null,
   "metadata": {},
   "outputs": [],
   "source": [
    "new_order = main.create_order(\"DISASTER ID\")"
   ]
  },
  {
   "cell_type": "markdown",
   "metadata": {},
   "source": [
    "# Create Shipment\n",
    "Store order in database, display the shipment id for reference\n",
    "function input: Order ID, State, Vendor(Can be blank), Supply Type, Amount.\n",
    "Function will record the order and create an order id for that\n",
    "return: shipment id(best named by date+name of supply type)\n",
    "* The best way to do this is, assume this is for a disaster:"
   ]
  },
  {
   "cell_type": "code",
   "execution_count": null,
   "metadata": {},
   "outputs": [],
   "source": [
    "destination_state = test_disaster.state_code\n",
    "destination_county = test_disaster.county_code\n",
    "new_shipment = Platform_Objects.Shipment(vendor=\"Vendor ID if determined\", destination_state=destination_state, destination_county=destination_county, status=\"Not completed\", vehicle_type=\"Vehicle ID if determined\", current_location_lon=None, current_location_lat=None, content_id=\"Content/Supply ID\", content_quantity=\"Quantity in number\",\n",
    "                 exp_date=\"Set a expiration date if desired\")\n",
    "# If any change before upload, try the following way to edit:\n",
    "new_shipment.content_id = 1006\n",
    "shipment_id = new_shipment.insert_to_database(mydb, cursor) # Also available with new_shipment.id after this command"
   ]
  },
  {
   "cell_type": "markdown",
   "metadata": {},
   "source": [
    "For corresponding vendor id and name of each supply/content, assume know the content ID:"
   ]
  },
  {
   "cell_type": "code",
   "execution_count": null,
   "metadata": {},
   "outputs": [],
   "source": [
    "generators = Platform_Objects.Content(1006) #Content ID for generators\n",
    "generators.load_from_database(mydb, cursor)\n",
    "vendors_for_generators = generators.get_cor_vendors(mydb, cursor)"
   ]
  },
  {
   "cell_type": "markdown",
   "metadata": {},
   "source": [
    "Send request and route to that vendor(if vendor is filled), or send request to all vendor with the supplies\n",
    "function: send request of the order and route to vendors\n",
    "function input: same as 1.\n",
    "return all vendor requested"
   ]
  },
  {
   "cell_type": "markdown",
   "metadata": {},
   "source": [
    "* Since route need details of starting location, this is not developed yet. But email about the shipment is available"
   ]
  },
  {
   "cell_type": "code",
   "execution_count": null,
   "metadata": {},
   "outputs": [],
   "source": [
    "new_shipment.notify(mydb, cursor)"
   ]
  },
  {
   "cell_type": "markdown",
   "metadata": {},
   "source": [
    "* Destination zipcode is available via:"
   ]
  },
  {
   "cell_type": "code",
   "execution_count": null,
   "metadata": {},
   "outputs": [],
   "source": [
    "destin_zip = SQL_Caller.fips_to_zip(mydb, cursor, new_shipment.destination_state, destination_county)[0]"
   ]
  },
  {
   "cell_type": "markdown",
   "metadata": {},
   "source": [
    "Suggest order by disaster id, using our database to suggest order\n",
    "function input: disaster id,\n",
    "return the most recent order for disaster id,\n",
    "if none, search for the most recent order for that type of disaster,\n",
    "if still none return empty order\n",
    "* Note that the relation has been established, waiting to bind with shipments"
   ]
  },
  {
   "cell_type": "code",
   "execution_count": null,
   "metadata": {},
   "outputs": [],
   "source": [
    "next_order = main.suggest_order(\"DISASTER ID\")"
   ]
  },
  {
   "cell_type": "markdown",
   "metadata": {},
   "source": [
    "To get a list of all shipment related to an order:"
   ]
  },
  {
   "cell_type": "code",
   "execution_count": null,
   "metadata": {},
   "outputs": [],
   "source": [
    "sub_shipments1 = new_order.shipment_list(mydb, cursor)"
   ]
  },
  {
   "cell_type": "markdown",
   "metadata": {},
   "source": [
    "# Tracking\n",
    "Track with order id, display the status of tracking on map\n",
    "function input: order id,\n",
    "return tracking messages(Accepted+time, Delivering+time, Delivered+time) for all shipment id relate with that order id\n",
    "* No such info is available yet, so the current structure can only provide the coordinates:"
   ]
  },
  {
   "cell_type": "code",
   "execution_count": null,
   "metadata": {},
   "outputs": [],
   "source": [
    "sub_shipments_locations = new_order.shipment_locations(mydb, cursor)"
   ]
  },
  {
   "cell_type": "markdown",
   "metadata": {},
   "source": [
    "Track with shipment id, display the current position of trucks relate with the id\n",
    "function  input: shipment id,\n",
    "return mapping app interface OR map images with those trucks’ current location"
   ]
  },
  {
   "cell_type": "code",
   "execution_count": null,
   "metadata": {},
   "outputs": [],
   "source": [
    "track_shipment = Platform_Objects.Shipment(s_id=shipment_id)\n",
    "track_shipment.sync_with_database(mydb, cursor)\n",
    "current_long = track_shipment.current_location_lon\n",
    "current_lat = track_shipment.current_location_lat"
   ]
  },
  {
   "cell_type": "markdown",
   "metadata": {},
   "source": [
    "Track by State: display a list of all accepted orders in that state\n",
    "function input: State,\n",
    "return list of all accepted orders in that state\n",
    "* No actions taken yet\n",
    "\n",
    "Track by Vendor: display a list of all accepted orders of that vendor\n",
    "function input: vendor,\n",
    "return list of all accepted orders of that vendor\n",
    "* No actions taken yet\n",
    "\n",
    "Track by supply type: display a list of all accepted order of that supply\n",
    "function input: supply type,\n",
    "return list of all accepted orders of that type\n",
    "* No actions taken yet"
   ]
  }
 ],
 "metadata": {
  "kernelspec": {
   "display_name": "Python 3 (ipykernel)",
   "language": "python",
   "name": "python3"
  },
  "language_info": {
   "codemirror_mode": {
    "name": "ipython",
    "version": 3
   },
   "file_extension": ".py",
   "mimetype": "text/x-python",
   "name": "python",
   "nbconvert_exporter": "python",
   "pygments_lexer": "ipython3",
   "version": "3.9.6"
  }
 },
 "nbformat": 4,
 "nbformat_minor": 1
}
